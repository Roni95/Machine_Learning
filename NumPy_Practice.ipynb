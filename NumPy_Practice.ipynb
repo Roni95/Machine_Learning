{
 "cells": [
  {
   "cell_type": "code",
   "execution_count": 63,
   "id": "8c7a125e-32be-4b07-9408-2f4b8690e150",
   "metadata": {},
   "outputs": [],
   "source": [
    "#import the NumPy Library as np variable\n",
    "import numpy as np"
   ]
  },
  {
   "cell_type": "code",
   "execution_count": 64,
   "id": "7a50342f-09d4-4f6b-baeb-6a2de7dbb7f7",
   "metadata": {},
   "outputs": [],
   "source": [
    "#define a np variable with all ones\n",
    "a = np.ones((3,3))"
   ]
  },
  {
   "cell_type": "code",
   "execution_count": 65,
   "id": "34303131-a891-4da0-9716-edb6db8a10a5",
   "metadata": {},
   "outputs": [
    {
     "data": {
      "text/plain": [
       "array([[1., 1., 1.],\n",
       "       [1., 1., 1.],\n",
       "       [1., 1., 1.]])"
      ]
     },
     "execution_count": 65,
     "metadata": {},
     "output_type": "execute_result"
    }
   ],
   "source": [
    "#print a \n",
    "a"
   ]
  },
  {
   "cell_type": "code",
   "execution_count": 66,
   "id": "7c733303-98f3-49d0-a493-085fbb0ac157",
   "metadata": {},
   "outputs": [],
   "source": [
    "b = np.zeros((3,3))"
   ]
  },
  {
   "cell_type": "code",
   "execution_count": 67,
   "id": "f9a6a638-5eb9-4d9e-bbee-c1922753ed36",
   "metadata": {},
   "outputs": [
    {
     "data": {
      "text/plain": [
       "array([[0., 0., 0.],\n",
       "       [0., 0., 0.],\n",
       "       [0., 0., 0.]])"
      ]
     },
     "execution_count": 67,
     "metadata": {},
     "output_type": "execute_result"
    }
   ],
   "source": [
    "b"
   ]
  },
  {
   "cell_type": "code",
   "execution_count": 68,
   "id": "c470cac0-feb3-4497-88af-e98aa85e5fda",
   "metadata": {},
   "outputs": [
    {
     "data": {
      "text/plain": [
       "array([[1., 1., 1.],\n",
       "       [1., 1., 1.],\n",
       "       [1., 1., 1.]])"
      ]
     },
     "execution_count": 68,
     "metadata": {},
     "output_type": "execute_result"
    }
   ],
   "source": [
    "a+b"
   ]
  },
  {
   "cell_type": "code",
   "execution_count": 69,
   "id": "dbb6d521-52e0-49fc-9b15-4e6e33897f51",
   "metadata": {},
   "outputs": [],
   "source": [
    "r = np.random.randint(10,100,(4,4))"
   ]
  },
  {
   "cell_type": "code",
   "execution_count": 70,
   "id": "fc75191a-8b2c-4e40-a99a-f334078acff6",
   "metadata": {},
   "outputs": [
    {
     "data": {
      "text/plain": [
       "array([[20, 21, 59, 27],\n",
       "       [82, 74, 44, 76],\n",
       "       [95, 30, 94, 46],\n",
       "       [42, 86, 54, 16]])"
      ]
     },
     "execution_count": 70,
     "metadata": {},
     "output_type": "execute_result"
    }
   ],
   "source": [
    "r"
   ]
  },
  {
   "cell_type": "code",
   "execution_count": 71,
   "id": "6aa1ff06-81ee-4cb6-94e5-f122cc99116b",
   "metadata": {},
   "outputs": [
    {
     "data": {
      "text/plain": [
       "array([[[1., 1., 1.],\n",
       "        [1., 1., 1.],\n",
       "        [1., 1., 1.]],\n",
       "\n",
       "       [[1., 1., 1.],\n",
       "        [1., 1., 1.],\n",
       "        [1., 1., 1.]],\n",
       "\n",
       "       [[1., 1., 1.],\n",
       "        [1., 1., 1.],\n",
       "        [1., 1., 1.]]])"
      ]
     },
     "execution_count": 71,
     "metadata": {},
     "output_type": "execute_result"
    }
   ],
   "source": [
    "np.ones((3,3,3))"
   ]
  },
  {
   "cell_type": "code",
   "execution_count": 72,
   "id": "33309b0f-f635-456d-a2a4-55b5f9c7232f",
   "metadata": {},
   "outputs": [],
   "source": [
    "con = np.concatenate([a,b])"
   ]
  },
  {
   "cell_type": "code",
   "execution_count": 73,
   "id": "0fe64933-0a9c-4299-aaba-55282113fd1b",
   "metadata": {},
   "outputs": [
    {
     "data": {
      "text/plain": [
       "array([[1., 1., 1.],\n",
       "       [1., 1., 1.],\n",
       "       [1., 1., 1.],\n",
       "       [0., 0., 0.],\n",
       "       [0., 0., 0.],\n",
       "       [0., 0., 0.]])"
      ]
     },
     "execution_count": 73,
     "metadata": {},
     "output_type": "execute_result"
    }
   ],
   "source": [
    "con"
   ]
  },
  {
   "cell_type": "code",
   "execution_count": 74,
   "id": "791d00f1-ebb3-4b0f-826f-966e7edc8e2f",
   "metadata": {},
   "outputs": [
    {
     "data": {
      "text/plain": [
       "array([[1., 1., 1., 0., 0., 0.],\n",
       "       [1., 1., 1., 0., 0., 0.],\n",
       "       [1., 1., 1., 0., 0., 0.]])"
      ]
     },
     "execution_count": 74,
     "metadata": {},
     "output_type": "execute_result"
    }
   ],
   "source": [
    "np.concatenate([a,b],axis=1)"
   ]
  },
  {
   "cell_type": "code",
   "execution_count": 75,
   "id": "ff3aa00c-d86c-4bd9-9fb0-1a55f73b7f0b",
   "metadata": {},
   "outputs": [
    {
     "data": {
      "text/plain": [
       "array([[20, 21, 59, 27],\n",
       "       [82, 74, 44, 76],\n",
       "       [95, 30, 94, 46],\n",
       "       [42, 86, 54, 16]])"
      ]
     },
     "execution_count": 75,
     "metadata": {},
     "output_type": "execute_result"
    }
   ],
   "source": [
    "r"
   ]
  },
  {
   "cell_type": "code",
   "execution_count": 76,
   "id": "379db7fe-86e0-4829-bbfc-3c619dc4382a",
   "metadata": {},
   "outputs": [
    {
     "data": {
      "text/plain": [
       "(4, 4)"
      ]
     },
     "execution_count": 76,
     "metadata": {},
     "output_type": "execute_result"
    }
   ],
   "source": [
    "r.shape"
   ]
  },
  {
   "cell_type": "code",
   "execution_count": 77,
   "id": "159e5581-9e9c-4e8a-899a-c344cedade25",
   "metadata": {},
   "outputs": [
    {
     "data": {
      "text/plain": [
       "(3, 3)"
      ]
     },
     "execution_count": 77,
     "metadata": {},
     "output_type": "execute_result"
    }
   ],
   "source": [
    "a.shape"
   ]
  },
  {
   "cell_type": "code",
   "execution_count": 78,
   "id": "e3827606-88c4-462b-8191-00fc56eb8ab5",
   "metadata": {},
   "outputs": [
    {
     "data": {
      "text/plain": [
       "array([[20, 21, 59, 27, 82, 74, 44, 76],\n",
       "       [95, 30, 94, 46, 42, 86, 54, 16]])"
      ]
     },
     "execution_count": 78,
     "metadata": {},
     "output_type": "execute_result"
    }
   ],
   "source": [
    "r.reshape(2,8)"
   ]
  },
  {
   "cell_type": "code",
   "execution_count": 79,
   "id": "331182c9-1d7a-4151-8bf9-13be8876812d",
   "metadata": {},
   "outputs": [
    {
     "data": {
      "text/plain": [
       "16"
      ]
     },
     "execution_count": 79,
     "metadata": {},
     "output_type": "execute_result"
    }
   ],
   "source": [
    "r.size"
   ]
  },
  {
   "cell_type": "code",
   "execution_count": 80,
   "id": "d9c956e7-e016-4836-b07d-cb3aee5c198b",
   "metadata": {},
   "outputs": [
    {
     "data": {
      "text/plain": [
       "9"
      ]
     },
     "execution_count": 80,
     "metadata": {},
     "output_type": "execute_result"
    }
   ],
   "source": [
    "b.size"
   ]
  },
  {
   "cell_type": "code",
   "execution_count": 81,
   "id": "b8c9f185-fdff-42e5-a303-3faebc54f6a5",
   "metadata": {},
   "outputs": [
    {
     "data": {
      "text/plain": [
       "95"
      ]
     },
     "execution_count": 81,
     "metadata": {},
     "output_type": "execute_result"
    }
   ],
   "source": [
    "np.max(r)"
   ]
  },
  {
   "cell_type": "raw",
   "id": "3e088459-9ce4-43ea-9a30-cff0a1a2b387",
   "metadata": {},
   "source": [
    "np.min(r)"
   ]
  },
  {
   "cell_type": "code",
   "execution_count": 82,
   "id": "705ef2e7-e3ca-4ddb-baaa-174ee89c8700",
   "metadata": {},
   "outputs": [
    {
     "data": {
      "text/plain": [
       "866"
      ]
     },
     "execution_count": 82,
     "metadata": {},
     "output_type": "execute_result"
    }
   ],
   "source": [
    "np.sum(r)"
   ]
  },
  {
   "cell_type": "code",
   "execution_count": 83,
   "id": "0dd64cd2-c9d9-4eb2-8fdb-0184482c1a2d",
   "metadata": {},
   "outputs": [
    {
     "data": {
      "text/plain": [
       "866"
      ]
     },
     "execution_count": 83,
     "metadata": {},
     "output_type": "execute_result"
    }
   ],
   "source": [
    "r.sum()"
   ]
  },
  {
   "cell_type": "code",
   "execution_count": 84,
   "id": "6e05f896-4365-4c5e-ac82-9a01f08e8c2c",
   "metadata": {},
   "outputs": [
    {
     "data": {
      "text/plain": [
       "array([127, 276, 265, 198])"
      ]
     },
     "execution_count": 84,
     "metadata": {},
     "output_type": "execute_result"
    }
   ],
   "source": [
    "r.sum(1)"
   ]
  },
  {
   "cell_type": "code",
   "execution_count": 85,
   "id": "a0daf224-5c6f-40bf-8e2d-209ef73696ef",
   "metadata": {},
   "outputs": [
    {
     "data": {
      "text/plain": [
       "array([239, 211, 251, 165])"
      ]
     },
     "execution_count": 85,
     "metadata": {},
     "output_type": "execute_result"
    }
   ],
   "source": [
    "r.sum(0)"
   ]
  },
  {
   "cell_type": "code",
   "execution_count": 86,
   "id": "b74f4c90-116e-4569-a1e2-c30553e18dbc",
   "metadata": {},
   "outputs": [
    {
     "data": {
      "text/plain": [
       "array([239, 211, 251, 165])"
      ]
     },
     "execution_count": 86,
     "metadata": {},
     "output_type": "execute_result"
    }
   ],
   "source": [
    "r.sum(axis=0)"
   ]
  },
  {
   "cell_type": "code",
   "execution_count": 87,
   "id": "9ed603ef-9720-4d39-ab96-c21213358a50",
   "metadata": {},
   "outputs": [
    {
     "data": {
      "text/plain": [
       "array([127, 276, 265, 198])"
      ]
     },
     "execution_count": 87,
     "metadata": {},
     "output_type": "execute_result"
    }
   ],
   "source": [
    "r.sum(axis=1)"
   ]
  },
  {
   "cell_type": "code",
   "execution_count": 88,
   "id": "cb691318-18a3-4b31-b623-26ae9c4e5dfb",
   "metadata": {},
   "outputs": [
    {
     "data": {
      "text/plain": [
       "54.125"
      ]
     },
     "execution_count": 88,
     "metadata": {},
     "output_type": "execute_result"
    }
   ],
   "source": [
    "r.mean()"
   ]
  },
  {
   "cell_type": "code",
   "execution_count": 89,
   "id": "efd9da56-3374-43b6-abf6-4ca591f66a16",
   "metadata": {},
   "outputs": [
    {
     "data": {
      "text/plain": [
       "True"
      ]
     },
     "execution_count": 89,
     "metadata": {},
     "output_type": "execute_result"
    }
   ],
   "source": [
    "r.all()"
   ]
  },
  {
   "cell_type": "code",
   "execution_count": 90,
   "id": "716fc7db-2a69-453c-b66f-1e90fc194420",
   "metadata": {},
   "outputs": [
    {
     "data": {
      "text/plain": [
       "False"
      ]
     },
     "execution_count": 90,
     "metadata": {},
     "output_type": "execute_result"
    }
   ],
   "source": [
    "b.all()"
   ]
  },
  {
   "cell_type": "code",
   "execution_count": 91,
   "id": "32ab3e4e-160e-4908-a42f-3617db31cb98",
   "metadata": {},
   "outputs": [
    {
     "data": {
      "text/plain": [
       "True"
      ]
     },
     "execution_count": 91,
     "metadata": {},
     "output_type": "execute_result"
    }
   ],
   "source": [
    "a.all()"
   ]
  },
  {
   "cell_type": "code",
   "execution_count": 92,
   "id": "dd67773a-c255-45e3-b143-b0c47c3b1001",
   "metadata": {},
   "outputs": [],
   "source": [
    "x = np.random.randint(1,10,(3,3))"
   ]
  },
  {
   "cell_type": "code",
   "execution_count": 93,
   "id": "89113b1d-26cd-49f1-b32a-4fc55b29daad",
   "metadata": {},
   "outputs": [],
   "source": [
    "y = np.ones((1,3))"
   ]
  },
  {
   "cell_type": "code",
   "execution_count": 94,
   "id": "636fe482-b105-4e5c-bfaa-830d0cd64f74",
   "metadata": {},
   "outputs": [
    {
     "data": {
      "text/plain": [
       "array([[4, 6, 2],\n",
       "       [7, 5, 6],\n",
       "       [7, 3, 5]])"
      ]
     },
     "execution_count": 94,
     "metadata": {},
     "output_type": "execute_result"
    }
   ],
   "source": [
    "x"
   ]
  },
  {
   "cell_type": "code",
   "execution_count": 95,
   "id": "ee73561e-a45c-4338-abb1-3882de10cdd2",
   "metadata": {},
   "outputs": [
    {
     "data": {
      "text/plain": [
       "array([[1., 1., 1.]])"
      ]
     },
     "execution_count": 95,
     "metadata": {},
     "output_type": "execute_result"
    }
   ],
   "source": [
    "y"
   ]
  },
  {
   "cell_type": "code",
   "execution_count": 96,
   "id": "d945f4ea-af6f-483d-9075-087ce6d84ffe",
   "metadata": {},
   "outputs": [
    {
     "data": {
      "text/plain": [
       "array([[5., 7., 3.],\n",
       "       [8., 6., 7.],\n",
       "       [8., 4., 6.]])"
      ]
     },
     "execution_count": 96,
     "metadata": {},
     "output_type": "execute_result"
    }
   ],
   "source": [
    "#Broardcasting\n",
    "x+y"
   ]
  },
  {
   "cell_type": "code",
   "execution_count": 97,
   "id": "23d78bdd-deef-48fa-9b3a-4a87f7114330",
   "metadata": {},
   "outputs": [],
   "source": [
    "y = [[1,2,3]]"
   ]
  },
  {
   "cell_type": "code",
   "execution_count": 98,
   "id": "55915bb0-2086-464a-9fa5-e80d7595d715",
   "metadata": {},
   "outputs": [
    {
     "data": {
      "text/plain": [
       "[[1, 2, 3]]"
      ]
     },
     "execution_count": 98,
     "metadata": {},
     "output_type": "execute_result"
    }
   ],
   "source": [
    "y"
   ]
  },
  {
   "cell_type": "code",
   "execution_count": 99,
   "id": "de2ec3f9-669b-466a-832c-1bcf80a3b272",
   "metadata": {},
   "outputs": [
    {
     "data": {
      "text/plain": [
       "array([[5, 8, 5],\n",
       "       [8, 7, 9],\n",
       "       [8, 5, 8]])"
      ]
     },
     "execution_count": 99,
     "metadata": {},
     "output_type": "execute_result"
    }
   ],
   "source": [
    "x+y"
   ]
  },
  {
   "cell_type": "code",
   "execution_count": null,
   "id": "79c60eb3-c0fc-4bca-8f82-552f632c7eab",
   "metadata": {},
   "outputs": [],
   "source": []
  },
  {
   "cell_type": "code",
   "execution_count": null,
   "id": "29d468d0-424b-4c3d-b199-7601fd19ab5f",
   "metadata": {},
   "outputs": [],
   "source": []
  }
 ],
 "metadata": {
  "kernelspec": {
   "display_name": "Python 3 (ipykernel)",
   "language": "python",
   "name": "python3"
  },
  "language_info": {
   "codemirror_mode": {
    "name": "ipython",
    "version": 3
   },
   "file_extension": ".py",
   "mimetype": "text/x-python",
   "name": "python",
   "nbconvert_exporter": "python",
   "pygments_lexer": "ipython3",
   "version": "3.9.12"
  }
 },
 "nbformat": 4,
 "nbformat_minor": 5
}
